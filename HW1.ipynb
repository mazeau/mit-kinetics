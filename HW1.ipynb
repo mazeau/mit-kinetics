{
 "cells": [
  {
   "cell_type": "code",
   "execution_count": 1,
   "metadata": {},
   "outputs": [],
   "source": [
    "import cantera as ct\n",
    "import numpy as np\n",
    "import scipy\n",
    "import pylab\n",
    "import matplotlib\n",
    "import matplotlib.pyplot as plt"
   ]
  },
  {
   "cell_type": "code",
   "execution_count": 2,
   "metadata": {},
   "outputs": [
    {
     "name": "stdout",
     "output_type": "stream",
     "text": [
      "This mechanism contains 668 gas reactions\n"
     ]
    }
   ],
   "source": [
    "# import the file\n",
    "gas = ct.Solution('propanepyrolysis.cti', 'gas')\n",
    "print(f\"This mechanism contains {gas.n_reactions} gas reactions\")\n"
   ]
  },
  {
   "cell_type": "code",
   "execution_count": 3,
   "metadata": {},
   "outputs": [
    {
     "data": {
      "text/plain": [
       "['He',\n",
       " 'Ne',\n",
       " 'propane(1)',\n",
       " 'H(2)',\n",
       " 'H2(6)',\n",
       " 'CH3(14)',\n",
       " 'CH4(15)',\n",
       " 'C2H6(36)',\n",
       " 'C2H5(37)',\n",
       " 'C2H4(38)',\n",
       " 'C2H3(41)',\n",
       " 'C3H3(66)',\n",
       " 'NC3H7(92)',\n",
       " 'IC3H7(93)',\n",
       " 'C3H5-A(94)',\n",
       " 'C3H6(95)',\n",
       " 'C3H5(101)',\n",
       " 'C4H5(106)',\n",
       " 'C4H5(107)',\n",
       " 'C3H4(167)',\n",
       " 'C3H4(169)',\n",
       " 'PC4H9(183)',\n",
       " 'SC4H9(184)',\n",
       " 'C4H8(189)',\n",
       " 'C4H8(190)',\n",
       " 'C4H7(191)',\n",
       " 'C4H7(192)',\n",
       " 'C4H7(193)',\n",
       " 'C4H6(195)',\n",
       " 'IC4H9(273)',\n",
       " 'C6H10(342)',\n",
       " 'C6H9(343)',\n",
       " 'C5H9(399)',\n",
       " 'C5H9(400)',\n",
       " 'C5H8(403)',\n",
       " 'C5H7(404)',\n",
       " 'C5H9(405)',\n",
       " 'C5H9(407)',\n",
       " 'C5H11(421)',\n",
       " 'C5H11(422)',\n",
       " 'C5H9(428)',\n",
       " 'C5H11(537)',\n",
       " 'C5H11(540)',\n",
       " 'C5H10(541)',\n",
       " 'C4H6(770)',\n",
       " 'C4H5(774)',\n",
       " 'C4H7(777)',\n",
       " 'C4H5(781)',\n",
       " 'C4H5(793)',\n",
       " 'C3H4(801)']"
      ]
     },
     "execution_count": 3,
     "metadata": {},
     "output_type": "execute_result"
    }
   ],
   "source": [
    "gas.species_names"
   ]
  },
  {
   "cell_type": "code",
   "execution_count": 4,
   "metadata": {},
   "outputs": [
    {
     "data": {
      "text/plain": [
       "'Ne'"
      ]
     },
     "execution_count": 4,
     "metadata": {},
     "output_type": "execute_result"
    }
   ],
   "source": [
    "gas.species_name(1)"
   ]
  },
  {
   "cell_type": "markdown",
   "metadata": {},
   "source": [
    "# Problem 1a"
   ]
  },
  {
   "cell_type": "code",
   "execution_count": 5,
   "metadata": {},
   "outputs": [],
   "source": [
    "# initial conditions\n",
    "temp = 1000  # K\n",
    "pressure = ct.one_atm\n",
    "X = \"H(2):1, C2H6(36):100000\"\n",
    "# X = \"H2(6):1, C2H6(36):100000\"\n",
    "gas.TPX = temp, pressure, X\n",
    "# r.volume = 1\n",
    "\n",
    "r = ct.IdealGasConstPressureReactor(gas)\n",
    "sim = ct.ReactorNet([r])\n",
    "sim.max_err_test_fails = 12\n",
    "sim.rtol = 1.0e-12\n",
    "sim.atol = 1.0e-23\n",
    "states = ct.SolutionArray(gas, extra=['t'])\n",
    "rxn_time = np.arange(0,1e-6,1e-12)  # linear spacing\n",
    "# rxn_time = np.logspace(0,1e-6,num=1e9)  # log spacing\n",
    "\n",
    "gas_mole_fracs = np.zeros([gas.n_species, len(rxn_time)])\n",
    "temperature = np.zeros(len(rxn_time))\n",
    "v = np.zeros(len(rxn_time))\n",
    "\n",
    "# print('  Time    H2(6)    C2H6(36)   Temp')\n",
    "for i in range(len(rxn_time)):\n",
    "    time = rxn_time[i]  # define time in the reactor\n",
    "    sim.advance(time)  # Advance the simulation to next set time\n",
    "    gas_mole_fracs[:, i] = gas.X\n",
    "    temperature[i] = gas.T\n",
    "    v[i] = r.volume"
   ]
  },
  {
   "cell_type": "code",
   "execution_count": 66,
   "metadata": {},
   "outputs": [
    {
     "data": {
      "text/plain": [
       "Text(0, 0.5, 'Mole Fraction')"
      ]
     },
     "execution_count": 66,
     "metadata": {},
     "output_type": "execute_result"
    },
    {
     "data": {
      "image/png": "[encoded data removed]",
      "text/plain": [
       "<Figure size 432x288 with 1 Axes>"
      ]
     },
     "metadata": {
      "needs_background": "light"
     },
     "output_type": "display_data"
    }
   ],
   "source": [
    "for species in range(gas.n_species):\n",
    "    if gas_mole_fracs[species].max() > 5.e-3:\n",
    "        plt.plot(rxn_time, gas_mole_fracs[species], label=gas.species_name(species))\n",
    "plt.legend()\n",
    "plt.xlabel('Time (s)')\n",
    "plt.ylabel('Mole Fraction')\n",
    "# plt.plot(rxn_time, gas_mole_fracs[gas.species_index('H2(6)')])\n",
    "# plt.plot(rxn_time, gas_mole_fracs[gas.species_index('C2H6(36)')])"
   ]
  },
  {
   "cell_type": "code",
   "execution_count": 65,
   "metadata": {},
   "outputs": [
    {
     "data": {
      "text/plain": [
       "Text(0, 0.5, 'Mole Fraction')"
      ]
     },
     "execution_count": 65,
     "metadata": {},
     "output_type": "execute_result"
    },
    {
     "data": {
      "image/png": "[encoded data removed]",
      "text/plain": [
       "<Figure size 432x288 with 1 Axes>"
      ]
     },
     "metadata": {
      "needs_background": "light"
     },
     "output_type": "display_data"
    }
   ],
   "source": [
    "plt.plot(rxn_time, gas_mole_fracs[gas.species_index('H(2)')])\n",
    "plt.xlabel('Time (s)')\n",
    "plt.ylabel('Mole Fraction')"
   ]
  },
  {
   "cell_type": "code",
   "execution_count": 11,
   "metadata": {},
   "outputs": [
    {
     "name": "stdout",
     "output_type": "stream",
     "text": [
      "The half life for an H atom is 4.3677e-08 seconds.\n"
     ]
    }
   ],
   "source": [
    "H_mole_fracs = gas_mole_fracs[gas.species_index('H(2)')]\n",
    "\n",
    "H_half_life_amount = H_mole_fracs[0]/2.\n",
    "# print(H_half_life_amount)\n",
    "for x in H_mole_fracs:\n",
    "    if x <= H_half_life_amount:\n",
    "#         H_half_life = H_mole_fracs.index(x)\n",
    "        H_half_life_time = np.where(H_mole_fracs == x)\n",
    "        break\n",
    "\n",
    "H_half_life = rxn_time[H_half_life_time[0][0]]\n",
    "print(f\"The half life for an H atom is {H_half_life} seconds.\")"
   ]
  },
  {
   "cell_type": "code",
   "execution_count": 12,
   "metadata": {},
   "outputs": [
    {
     "name": "stdout",
     "output_type": "stream",
     "text": [
      "The mole fraction change of ethane after 4.3677e-08 seconds is 5.008625403535305e-06.\n"
     ]
    }
   ],
   "source": [
    "ethane_mole_fracs = gas_mole_fracs[gas.species_index('C2H6(36)')]\n",
    "ethane_change = ethane_mole_fracs[0] - ethane_mole_fracs[H_half_life_time[0][0]]\n",
    "print(f\"The mole fraction change of ethane after {H_half_life} seconds is {ethane_change}.\")"
   ]
  },
  {
   "cell_type": "markdown",
   "metadata": {},
   "source": [
    "The mole fraction of ethane does not change significantly in this small timescale"
   ]
  },
  {
   "cell_type": "code",
   "execution_count": 64,
   "metadata": {},
   "outputs": [
    {
     "data": {
      "text/plain": [
       "<matplotlib.legend.Legend at 0x7ff3403f2dd0>"
      ]
     },
     "execution_count": 64,
     "metadata": {},
     "output_type": "execute_result"
    },
    {
     "name": "stderr",
     "output_type": "stream",
     "text": [
      "/Users/emilymazeau/anaconda2/envs/rmg_env/lib/python3.7/site-packages/IPython/core/pylabtools.py:128: UserWarning: Creating legend with loc=\"best\" can be slow with large amounts of data.\n",
      "  fig.canvas.print_figure(bytes_io, **kw)\n"
     ]
    },
    {
     "data": {
      "image/png": "[encoded data removed]",
      "text/plain": [
       "<Figure size 432x288 with 1 Axes>"
      ]
     },
     "metadata": {
      "needs_background": "light"
     },
     "output_type": "display_data"
    }
   ],
   "source": [
    "for species in range(gas.n_species):\n",
    "    if gas_mole_fracs[species].max() > 5.e-6:\n",
    "        plt.plot(rxn_time, gas_mole_fracs[species], label=gas.species_name(species))\n",
    "plt.ylim(0,1e-5)\n",
    "plt.ylabel('Mole Fraction')\n",
    "plt.xlabel('Time (s)')\n",
    "plt.legend()"
   ]
  },
  {
   "cell_type": "markdown",
   "metadata": {},
   "source": [
    "H<sub>2</sub> and C<sub>2</sub>H<sub>5</sub> species are being formed."
   ]
  },
  {
   "cell_type": "code",
   "execution_count": 59,
   "metadata": {},
   "outputs": [
    {
     "name": "stdout",
     "output_type": "stream",
     "text": [
      "Could be C2H6(36) + H(2) <=> C2H5(37) + H2(6), ID: 0026\n"
     ]
    }
   ],
   "source": [
    "for rxn in gas.reactions():\n",
    "    if ('H(2)' and 'C2H6(36)') in rxn.reactants:\n",
    "        if ('H2(6)' or 'C2H5(37)') in rxn.products:\n",
    "            print(f\"Could be {rxn.equation}, ID: {rxn.ID}\")"
   ]
  },
  {
   "cell_type": "code",
   "execution_count": 71,
   "metadata": {},
   "outputs": [
    {
     "data": {
      "text/plain": [
       "Text(0.5, 1.0, 'H(2)')"
      ]
     },
     "execution_count": 71,
     "metadata": {},
     "output_type": "execute_result"
    },
    {
     "data": {
      "image/png": "[encoded data removed]",
      "text/plain": [
       "<Figure size 432x288 with 1 Axes>"
      ]
     },
     "metadata": {
      "needs_background": "light"
     },
     "output_type": "display_data"
    }
   ],
   "source": [
    "plt.semilogy(rxn_time, gas_mole_fracs[gas.species_index('H(2)')])\n",
    "plt.ylabel('Mole Fraction')\n",
    "plt.xlabel('Time (s)')\n",
    "# plt.xlim(0,3e-7)\n",
    "plt.title('H(2)')"
   ]
  },
  {
   "cell_type": "markdown",
   "metadata": {},
   "source": [
    "H is linear at short times, as expected!"
   ]
  },
  {
   "cell_type": "markdown",
   "metadata": {},
   "source": [
    "At longer times, the slope of H becomes horizontal (or close to it)"
   ]
  },
  {
   "cell_type": "markdown",
   "metadata": {},
   "source": [
    "# Problem 1b"
   ]
  },
  {
   "cell_type": "code",
   "execution_count": null,
   "metadata": {},
   "outputs": [],
   "source": []
  },
  {
   "cell_type": "code",
   "execution_count": null,
   "metadata": {},
   "outputs": [],
   "source": []
  },
  {
   "cell_type": "code",
   "execution_count": null,
   "metadata": {},
   "outputs": [],
   "source": []
  },
  {
   "cell_type": "code",
   "execution_count": null,
   "metadata": {},
   "outputs": [],
   "source": []
  },
  {
   "cell_type": "code",
   "execution_count": null,
   "metadata": {},
   "outputs": [],
   "source": []
  }
 ],
 "metadata": {
  "kernelspec": {
   "display_name": "Python 3",
   "language": "python",
   "name": "python3"
  },
  "language_info": {
   "codemirror_mode": {
    "name": "ipython",
    "version": 3
   },
   "file_extension": ".py",
   "mimetype": "text/x-python",
   "name": "python",
   "nbconvert_exporter": "python",
   "pygments_lexer": "ipython3",
   "version": "3.7.5"
  }
 },
 "nbformat": 4,
 "nbformat_minor": 2
}
